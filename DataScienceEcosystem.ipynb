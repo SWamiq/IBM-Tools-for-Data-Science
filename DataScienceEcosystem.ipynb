{
 "cells": [
  {
   "cell_type": "markdown",
   "id": "ff28d9cd",
   "metadata": {},
   "source": [
    "# Data Science Tools and Ecosystem"
   ]
  },
  {
   "cell_type": "markdown",
   "id": "e677b840",
   "metadata": {},
   "source": [
    "## In this notebook we will use the Data Science Tools and the Ecosystem"
   ]
  },
  {
   "cell_type": "markdown",
   "id": "6d2a5d37",
   "metadata": {},
   "source": [
    "## Objective in this notebook:\n",
    "* Programing languages for Data Science\n",
    "* Some Libraries for Data Scence\n",
    "* Data Science Tools\n",
    "* Some arithmetic operation"
   ]
  },
  {
   "cell_type": "markdown",
   "id": "7173c34b",
   "metadata": {},
   "source": [
    "Some of programing languages that are used in the Data Science are:\n",
    "* Python\n",
    "* R\n",
    "* Julia"
   ]
  },
  {
   "cell_type": "markdown",
   "id": "2de50fbd",
   "metadata": {},
   "source": [
    "Some of the commonly used libraries used for Data Scientists are:\n",
    "* Pandas\n",
    "* Numpy\n",
    "* Sklearn\n",
    "* Seaborn\n",
    "* Matplotlib"
   ]
  },
  {
   "cell_type": "markdown",
   "id": "c5bbd4bb",
   "metadata": {},
   "source": [
    "| Data Science Tools|\n",
    "|-----------|\n",
    "| Jupyter Notebook|\n",
    "| Tableau |\n",
    "| Google Colab |\n"
   ]
  },
  {
   "cell_type": "markdown",
   "id": "d76ea4e1",
   "metadata": {},
   "source": [
    "### Below are a few examples of evaluating arithmetic expressions in Python."
   ]
  },
  {
   "cell_type": "code",
   "execution_count": 4,
   "id": "758fd815",
   "metadata": {},
   "outputs": [
    {
     "data": {
      "text/plain": [
       "17"
      ]
     },
     "execution_count": 4,
     "metadata": {},
     "output_type": "execute_result"
    }
   ],
   "source": [
    "# This is a simple arithmetic expression where we multiply and then add integers.\n",
    "(3*4)+5"
   ]
  },
  {
   "cell_type": "code",
   "execution_count": 5,
   "id": "eb2a48c3",
   "metadata": {},
   "outputs": [
    {
     "data": {
      "text/plain": [
       "3.3333333333333335"
      ]
     },
     "execution_count": 5,
     "metadata": {},
     "output_type": "execute_result"
    }
   ],
   "source": [
    "# This converts 200 minutes to hours by dividing it by 60\n",
    "200/60"
   ]
  },
  {
   "cell_type": "markdown",
   "id": "af336feb",
   "metadata": {},
   "source": [
    "## Author \n",
    "Wamiq Syed Mahmood"
   ]
  },
  {
   "cell_type": "code",
   "execution_count": null,
   "id": "9ba8feed",
   "metadata": {},
   "outputs": [],
   "source": []
  }
 ],
 "metadata": {
  "kernelspec": {
   "display_name": "Python 3 (ipykernel)",
   "language": "python",
   "name": "python3"
  },
  "language_info": {
   "codemirror_mode": {
    "name": "ipython",
    "version": 3
   },
   "file_extension": ".py",
   "mimetype": "text/x-python",
   "name": "python",
   "nbconvert_exporter": "python",
   "pygments_lexer": "ipython3",
   "version": "3.9.12"
  }
 },
 "nbformat": 4,
 "nbformat_minor": 5
}
